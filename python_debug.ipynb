{
 "cells": [
  {
   "cell_type": "code",
   "execution_count": null,
   "metadata": {},
   "outputs": [],
   "source": [
    "%load_ext nbtutor"
   ]
  },
  {
   "cell_type": "markdown",
   "metadata": {},
   "source": [
    "# NBTutor\n",
    "(This extension works only with Python)\n",
    "\n",
    "(This extension does not work on the course account /services/{course_name} because of an issue(conflict) with the create assignment extension, but each Teacher/TA should have their own account that this works on, as well as all the students ofcourse)\n",
    "1. Firstly, load the extension for the notebook: `%load_ext nbtutor`\n",
    "* To activate the extension the cell needs to have 2 things:\n",
    "    * Click View->Cell Toolbar->Visualize\n",
    "    * Insert the `%%nbtutor` magic command in the cells you want to visulize.\n",
    "* Run the cell like usual\n",
    "\n",
    "Nbtutor only knows about the variables of the cell you are running unless the previous cell also has the %%nbtutor command. \n",
    "\n",
    "Nbtutor does not step into code that is not visible.\n",
    "\n",
    "\n",
    "## 2 modes\n",
    "1. See changes in memory interactively\n",
    "2. Table view of the changes of variables/values\n",
    "\n"
   ]
  },
  {
   "cell_type": "markdown",
   "metadata": {},
   "source": [
    "## Optional arguments\n",
    "\n",
    "\n",
    "There are also optional arguments that can be used with the cell magic:\n",
    "\n",
    "-  Reset the IPython user namespace\n",
    "\n",
    "> `%%nbtutor -r/--reset`\n",
    "\n",
    "-  Suppress the confirmation message from ``-r/--reset``\n",
    "\n",
    "\n",
    "> `%%nbtutor -r/--reset -f/--force`\n",
    "\n",
    "\n",
    "-  Render primitive objects inline\n",
    "\n",
    "> `%%nbtutor -i/--inline`\n",
    "\n",
    "-  Specify the maximum frame depth to visualize (default: 1)\n",
    "\n",
    "> `%%nbtutor -d/--depth N``\n",
    "\n",
    "\n",
    "-  Specify the number of significant digits for floats (default: 3)\n",
    "\n",
    "> `%%nbtutor --digits D`\n",
    "\n",
    "-  Specify the maximum number of elements to visualize for \"sequence\"\n",
    "   type objects (default: 5)\n",
    "\n",
    "> `%%nbtutor --max_size S`\n",
    "\n",
    "-  Step through all frames (including frames from other cells and other\n",
    "   global scopes altogether)\n",
    "\n",
    "> `%%nbtutor --step_all`\n",
    "\n",
    "-  Expand ``numpy`` arrays to show underlying data\n",
    "\n",
    "> `%%nbtutor --expand_arrays`\n",
    "\n",
    "-  No inlined keys, attributes, or primitive objects\n",
    "\n",
    "> `%%nbtutor --nolies`\n"
   ]
  },
  {
   "cell_type": "markdown",
   "metadata": {},
   "source": [
    "### Binary search tree\n",
    "\n",
    "* Lets try memory visualizer"
   ]
  },
  {
   "cell_type": "code",
   "execution_count": null,
   "metadata": {},
   "outputs": [],
   "source": [
    "%%nbtutor\n",
    "class Node:\n",
    "    def __init__(self, val):\n",
    "        self.val = val\n",
    "        self.leftChild = None\n",
    "        self.rightChild = None\n",
    "    \n",
    "    def get(self):\n",
    "        return self.val\n",
    "    \n",
    "    def set(self, val):\n",
    "        self.val = val\n",
    "        \n",
    "    def getChildren(self):\n",
    "        children = []\n",
    "        if(self.leftChild != None):\n",
    "            children.append(self.leftChild)\n",
    "        if(self.rightChild != None):\n",
    "            children.append(self.rightChild)\n",
    "        return children\n",
    "        \n",
    "class BST:\n",
    "    def __init__(self):\n",
    "        self.root = None\n",
    "\n",
    "    def setRoot(self, val):\n",
    "        self.root = Node(val)\n",
    "\n",
    "    def insert(self, val):\n",
    "        if(self.root is None):\n",
    "            self.setRoot(val)\n",
    "        else:\n",
    "            self.insertNode(self.root, val)\n",
    "\n",
    "    def insertNode(self, currentNode, val):\n",
    "        if(val <= currentNode.val):\n",
    "            if(currentNode.leftChild):\n",
    "                self.insertNode(currentNode.leftChild, val)\n",
    "            else:\n",
    "                currentNode.leftChild = Node(val)\n",
    "        elif(val > currentNode.val):\n",
    "            if(currentNode.rightChild):\n",
    "                self.insertNode(currentNode.rightChild, val)\n",
    "            else:\n",
    "                currentNode.rightChild = Node(val)\n",
    "\n",
    "    def find(self, val):\n",
    "        return self.findNode(self.root, val)\n",
    "\n",
    "    def findNode(self, currentNode, val):\n",
    "        if(currentNode is None):\n",
    "            return False\n",
    "        elif(val == currentNode.val):\n",
    "            return True\n",
    "        elif(val < currentNode.val):\n",
    "            return self.findNode(currentNode.leftChild, val)\n",
    "        else:\n",
    "            return self.findNode(currentNode.rightChild, val)\n",
    "        \n",
    "        \n",
    "        \n"
   ]
  },
  {
   "cell_type": "code",
   "execution_count": null,
   "metadata": {},
   "outputs": [],
   "source": [
    "%%nbtutor\n",
    "mytree = BST()\n",
    "mytree.insert(\"red\")\n",
    "mytree.insert(\"blue\")\n",
    "mytree.insert(\"yellow\")\n",
    "mytree.insert(\"at\")\n",
    "\n",
    "mytree.find(\"at\")\n"
   ]
  },
  {
   "cell_type": "markdown",
   "metadata": {},
   "source": [
    "### Use \"-r -f\" to reset the namespace"
   ]
  },
  {
   "cell_type": "markdown",
   "metadata": {},
   "source": [
    "### Now try the timeline visulization"
   ]
  },
  {
   "cell_type": "code",
   "execution_count": null,
   "metadata": {},
   "outputs": [],
   "source": [
    "%%nbtutor -r -f\n",
    "def my_reverse(n):\n",
    "    cnt = 1\n",
    "    s = \"\"\n",
    "    for i in range(len(n)):\n",
    "        s += n[len(n)-cnt]\n",
    "        cnt += 1\n",
    "        \n",
    "    return \"\".join(s)\n",
    "\n",
    "my_reverse(\"abc\")"
   ]
  },
  {
   "cell_type": "code",
   "execution_count": null,
   "metadata": {},
   "outputs": [],
   "source": []
  },
  {
   "cell_type": "code",
   "execution_count": null,
   "metadata": {},
   "outputs": [],
   "source": []
  }
 ],
 "metadata": {
  "celltoolbar": "Visualize",
  "kernelspec": {
   "display_name": "Python [default]",
   "language": "python",
   "name": "python3"
  },
  "language_info": {
   "codemirror_mode": {
    "name": "ipython",
    "version": 3
   },
   "file_extension": ".py",
   "mimetype": "text/x-python",
   "name": "python",
   "nbconvert_exporter": "python",
   "pygments_lexer": "ipython3",
   "version": "3.5.2"
  }
 },
 "nbformat": 4,
 "nbformat_minor": 2
}
